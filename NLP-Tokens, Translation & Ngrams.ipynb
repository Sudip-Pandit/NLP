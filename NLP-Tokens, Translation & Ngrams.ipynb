{
 "cells": [
  {
   "cell_type": "code",
   "execution_count": 1,
   "id": "711d3adc",
   "metadata": {},
   "outputs": [],
   "source": [
    "from textblob import TextBlob"
   ]
  },
  {
   "cell_type": "code",
   "execution_count": 2,
   "id": "79302aff",
   "metadata": {},
   "outputs": [],
   "source": [
    "my_str = \"\"\"Mendoza lives in the barrio of Culiacán in Sinaloa, Mexico. \n",
    "She falls in love with a member of a drug cartel, and tries to rise above her life's impoverished condition.\n",
    "After she is told her boyfriend has been murdered, she is forced to flee. She crosses the border to the United States where she teams up with a person from her past in order to take down the leader of the drug ring that is after her. Mendoza ends up starting her own drug distributing organization and becomes very wealthy, \n",
    "which presents her with more problems, of a different kind\"\"\""
   ]
  },
  {
   "cell_type": "code",
   "execution_count": 3,
   "id": "910d6ea0",
   "metadata": {},
   "outputs": [],
   "source": [
    "blob = TextBlob(my_str)"
   ]
  },
  {
   "cell_type": "code",
   "execution_count": 4,
   "id": "dfb82316",
   "metadata": {},
   "outputs": [
    {
     "name": "stdout",
     "output_type": "stream",
     "text": [
      "Mendoza lives in the barrio of Culiacán in Sinaloa, Mexico. \n",
      "She falls in love with a member of a drug cartel, and tries to rise above her life's impoverished condition.\n",
      "After she is told her boyfriend has been murdered, she is forced to flee. She crosses the border to the United States where she teams up with a person from her past in order to take down the leader of the drug ring that is after her. Mendoza ends up starting her own drug distributing organization and becomes very wealthy, \n",
      "which presents her with more problems, of a different kind\n"
     ]
    }
   ],
   "source": [
    "print(blob)"
   ]
  },
  {
   "cell_type": "code",
   "execution_count": 5,
   "id": "71d1884f",
   "metadata": {},
   "outputs": [
    {
     "data": {
      "text/plain": [
       "textblob.blob.TextBlob"
      ]
     },
     "execution_count": 5,
     "metadata": {},
     "output_type": "execute_result"
    }
   ],
   "source": [
    "type(blob)"
   ]
  },
  {
   "cell_type": "code",
   "execution_count": 6,
   "id": "449fde06",
   "metadata": {},
   "outputs": [],
   "source": [
    "from textblob.blob import BaseBlob"
   ]
  },
  {
   "cell_type": "code",
   "execution_count": 7,
   "id": "424a6242",
   "metadata": {},
   "outputs": [
    {
     "data": {
      "text/plain": [
       "TextBlob(\"Mendoza lives in the barrio of Culiacán in Sinaloa, Mexico. \n",
       "She falls in love with a member of a drug cartel, and tries to rise above her life's impoverished condition.\n",
       "After she is told her boyfriend has been murdered, she is forced to flee. She crosses the border to the United States where she teams up with a person from her past in order to take down the leader of the drug ring that is after her. Mendoza ends up starting her own drug distributing organization and becomes very wealthy, \n",
       "which presents her with more problems, of a different kind\")"
      ]
     },
     "execution_count": 7,
     "metadata": {},
     "output_type": "execute_result"
    }
   ],
   "source": [
    "# word tokenization\n",
    "blob"
   ]
  },
  {
   "cell_type": "code",
   "execution_count": 8,
   "id": "49a03e01",
   "metadata": {},
   "outputs": [
    {
     "data": {
      "text/plain": [
       "WordList(['Mendoza', 'lives', 'in', 'the', 'barrio', 'of', 'Culiacán', 'in', 'Sinaloa', 'Mexico', 'She', 'falls', 'in', 'love', 'with', 'a', 'member', 'of', 'a', 'drug', 'cartel', 'and', 'tries', 'to', 'rise', 'above', 'her', 'life', \"'s\", 'impoverished', 'condition', 'After', 'she', 'is', 'told', 'her', 'boyfriend', 'has', 'been', 'murdered', 'she', 'is', 'forced', 'to', 'flee', 'She', 'crosses', 'the', 'border', 'to', 'the', 'United', 'States', 'where', 'she', 'teams', 'up', 'with', 'a', 'person', 'from', 'her', 'past', 'in', 'order', 'to', 'take', 'down', 'the', 'leader', 'of', 'the', 'drug', 'ring', 'that', 'is', 'after', 'her', 'Mendoza', 'ends', 'up', 'starting', 'her', 'own', 'drug', 'distributing', 'organization', 'and', 'becomes', 'very', 'wealthy', 'which', 'presents', 'her', 'with', 'more', 'problems', 'of', 'a', 'different', 'kind'])"
      ]
     },
     "execution_count": 8,
     "metadata": {},
     "output_type": "execute_result"
    }
   ],
   "source": [
    "blob.words"
   ]
  },
  {
   "cell_type": "code",
   "execution_count": 9,
   "id": "d76c3a67",
   "metadata": {},
   "outputs": [
    {
     "data": {
      "text/plain": [
       "[Sentence(\"Mendoza lives in the barrio of Culiacán in Sinaloa, Mexico.\"),\n",
       " Sentence(\"She falls in love with a member of a drug cartel, and tries to rise above her life's impoverished condition.\"),\n",
       " Sentence(\"After she is told her boyfriend has been murdered, she is forced to flee.\"),\n",
       " Sentence(\"She crosses the border to the United States where she teams up with a person from her past in order to take down the leader of the drug ring that is after her.\"),\n",
       " Sentence(\"Mendoza ends up starting her own drug distributing organization and becomes very wealthy, \n",
       " which presents her with more problems, of a different kind\")]"
      ]
     },
     "execution_count": 9,
     "metadata": {},
     "output_type": "execute_result"
    }
   ],
   "source": [
    "# sentence tokenizations\n",
    "blob.sentences"
   ]
  },
  {
   "cell_type": "code",
   "execution_count": 11,
   "id": "8e067caa",
   "metadata": {},
   "outputs": [
    {
     "name": "stdout",
     "output_type": "stream",
     "text": [
      "['Mendoza', 'lives', 'in', 'the', 'barrio', 'of', 'Culiacán', 'in', 'Sinaloa', 'Mexico']\n",
      "['She', 'falls', 'in', 'love', 'with', 'a', 'member', 'of', 'a', 'drug', 'cartel', 'and', 'tries', 'to', 'rise', 'above', 'her', 'life', \"'s\", 'impoverished', 'condition']\n",
      "['After', 'she', 'is', 'told', 'her', 'boyfriend', 'has', 'been', 'murdered', 'she', 'is', 'forced', 'to', 'flee']\n",
      "['She', 'crosses', 'the', 'border', 'to', 'the', 'United', 'States', 'where', 'she', 'teams', 'up', 'with', 'a', 'person', 'from', 'her', 'past', 'in', 'order', 'to', 'take', 'down', 'the', 'leader', 'of', 'the', 'drug', 'ring', 'that', 'is', 'after', 'her']\n",
      "['Mendoza', 'ends', 'up', 'starting', 'her', 'own', 'drug', 'distributing', 'organization', 'and', 'becomes', 'very', 'wealthy', 'which', 'presents', 'her', 'with', 'more', 'problems', 'of', 'a', 'different', 'kind']\n"
     ]
    }
   ],
   "source": [
    "# word tokens\n",
    "for word_tokens in blob.sentences:\n",
    "    print(word_tokens.words)"
   ]
  },
  {
   "cell_type": "code",
   "execution_count": 12,
   "id": "a85c483e",
   "metadata": {},
   "outputs": [
    {
     "name": "stdout",
     "output_type": "stream",
     "text": [
      "['Mendoza', 'lives']\n",
      "['lives', 'in']\n",
      "['in', 'the']\n",
      "['the', 'barrio']\n",
      "['barrio', 'of']\n",
      "['of', 'Culiacán']\n",
      "['Culiacán', 'in']\n",
      "['in', 'Sinaloa']\n",
      "['Sinaloa', 'Mexico']\n",
      "['Mexico', 'She']\n",
      "['She', 'falls']\n",
      "['falls', 'in']\n",
      "['in', 'love']\n",
      "['love', 'with']\n",
      "['with', 'a']\n",
      "['a', 'member']\n",
      "['member', 'of']\n",
      "['of', 'a']\n",
      "['a', 'drug']\n",
      "['drug', 'cartel']\n",
      "['cartel', 'and']\n",
      "['and', 'tries']\n",
      "['tries', 'to']\n",
      "['to', 'rise']\n",
      "['rise', 'above']\n",
      "['above', 'her']\n",
      "['her', 'life']\n",
      "['life', \"'s\"]\n",
      "[\"'s\", 'impoverished']\n",
      "['impoverished', 'condition']\n",
      "['condition', 'After']\n",
      "['After', 'she']\n",
      "['she', 'is']\n",
      "['is', 'told']\n",
      "['told', 'her']\n",
      "['her', 'boyfriend']\n",
      "['boyfriend', 'has']\n",
      "['has', 'been']\n",
      "['been', 'murdered']\n",
      "['murdered', 'she']\n",
      "['she', 'is']\n",
      "['is', 'forced']\n",
      "['forced', 'to']\n",
      "['to', 'flee']\n",
      "['flee', 'She']\n",
      "['She', 'crosses']\n",
      "['crosses', 'the']\n",
      "['the', 'border']\n",
      "['border', 'to']\n",
      "['to', 'the']\n",
      "['the', 'United']\n",
      "['United', 'States']\n",
      "['States', 'where']\n",
      "['where', 'she']\n",
      "['she', 'teams']\n",
      "['teams', 'up']\n",
      "['up', 'with']\n",
      "['with', 'a']\n",
      "['a', 'person']\n",
      "['person', 'from']\n",
      "['from', 'her']\n",
      "['her', 'past']\n",
      "['past', 'in']\n",
      "['in', 'order']\n",
      "['order', 'to']\n",
      "['to', 'take']\n",
      "['take', 'down']\n",
      "['down', 'the']\n",
      "['the', 'leader']\n",
      "['leader', 'of']\n",
      "['of', 'the']\n",
      "['the', 'drug']\n",
      "['drug', 'ring']\n",
      "['ring', 'that']\n",
      "['that', 'is']\n",
      "['is', 'after']\n",
      "['after', 'her']\n",
      "['her', 'Mendoza']\n",
      "['Mendoza', 'ends']\n",
      "['ends', 'up']\n",
      "['up', 'starting']\n",
      "['starting', 'her']\n",
      "['her', 'own']\n",
      "['own', 'drug']\n",
      "['drug', 'distributing']\n",
      "['distributing', 'organization']\n",
      "['organization', 'and']\n",
      "['and', 'becomes']\n",
      "['becomes', 'very']\n",
      "['very', 'wealthy']\n",
      "['wealthy', 'which']\n",
      "['which', 'presents']\n",
      "['presents', 'her']\n",
      "['her', 'with']\n",
      "['with', 'more']\n",
      "['more', 'problems']\n",
      "['problems', 'of']\n",
      "['of', 'a']\n",
      "['a', 'different']\n",
      "['different', 'kind']\n"
     ]
    }
   ],
   "source": [
    "# Ngrams\n",
    "for bigram in blob.ngrams(2):\n",
    "    print(bigram)"
   ]
  },
  {
   "cell_type": "code",
   "execution_count": 13,
   "id": "6e62fa5b",
   "metadata": {},
   "outputs": [
    {
     "name": "stdout",
     "output_type": "stream",
     "text": [
      "['Mendoza', 'lives', 'in']\n",
      "['lives', 'in', 'the']\n",
      "['in', 'the', 'barrio']\n",
      "['the', 'barrio', 'of']\n",
      "['barrio', 'of', 'Culiacán']\n",
      "['of', 'Culiacán', 'in']\n",
      "['Culiacán', 'in', 'Sinaloa']\n",
      "['in', 'Sinaloa', 'Mexico']\n",
      "['Sinaloa', 'Mexico', 'She']\n",
      "['Mexico', 'She', 'falls']\n",
      "['She', 'falls', 'in']\n",
      "['falls', 'in', 'love']\n",
      "['in', 'love', 'with']\n",
      "['love', 'with', 'a']\n",
      "['with', 'a', 'member']\n",
      "['a', 'member', 'of']\n",
      "['member', 'of', 'a']\n",
      "['of', 'a', 'drug']\n",
      "['a', 'drug', 'cartel']\n",
      "['drug', 'cartel', 'and']\n",
      "['cartel', 'and', 'tries']\n",
      "['and', 'tries', 'to']\n",
      "['tries', 'to', 'rise']\n",
      "['to', 'rise', 'above']\n",
      "['rise', 'above', 'her']\n",
      "['above', 'her', 'life']\n",
      "['her', 'life', \"'s\"]\n",
      "['life', \"'s\", 'impoverished']\n",
      "[\"'s\", 'impoverished', 'condition']\n",
      "['impoverished', 'condition', 'After']\n",
      "['condition', 'After', 'she']\n",
      "['After', 'she', 'is']\n",
      "['she', 'is', 'told']\n",
      "['is', 'told', 'her']\n",
      "['told', 'her', 'boyfriend']\n",
      "['her', 'boyfriend', 'has']\n",
      "['boyfriend', 'has', 'been']\n",
      "['has', 'been', 'murdered']\n",
      "['been', 'murdered', 'she']\n",
      "['murdered', 'she', 'is']\n",
      "['she', 'is', 'forced']\n",
      "['is', 'forced', 'to']\n",
      "['forced', 'to', 'flee']\n",
      "['to', 'flee', 'She']\n",
      "['flee', 'She', 'crosses']\n",
      "['She', 'crosses', 'the']\n",
      "['crosses', 'the', 'border']\n",
      "['the', 'border', 'to']\n",
      "['border', 'to', 'the']\n",
      "['to', 'the', 'United']\n",
      "['the', 'United', 'States']\n",
      "['United', 'States', 'where']\n",
      "['States', 'where', 'she']\n",
      "['where', 'she', 'teams']\n",
      "['she', 'teams', 'up']\n",
      "['teams', 'up', 'with']\n",
      "['up', 'with', 'a']\n",
      "['with', 'a', 'person']\n",
      "['a', 'person', 'from']\n",
      "['person', 'from', 'her']\n",
      "['from', 'her', 'past']\n",
      "['her', 'past', 'in']\n",
      "['past', 'in', 'order']\n",
      "['in', 'order', 'to']\n",
      "['order', 'to', 'take']\n",
      "['to', 'take', 'down']\n",
      "['take', 'down', 'the']\n",
      "['down', 'the', 'leader']\n",
      "['the', 'leader', 'of']\n",
      "['leader', 'of', 'the']\n",
      "['of', 'the', 'drug']\n",
      "['the', 'drug', 'ring']\n",
      "['drug', 'ring', 'that']\n",
      "['ring', 'that', 'is']\n",
      "['that', 'is', 'after']\n",
      "['is', 'after', 'her']\n",
      "['after', 'her', 'Mendoza']\n",
      "['her', 'Mendoza', 'ends']\n",
      "['Mendoza', 'ends', 'up']\n",
      "['ends', 'up', 'starting']\n",
      "['up', 'starting', 'her']\n",
      "['starting', 'her', 'own']\n",
      "['her', 'own', 'drug']\n",
      "['own', 'drug', 'distributing']\n",
      "['drug', 'distributing', 'organization']\n",
      "['distributing', 'organization', 'and']\n",
      "['organization', 'and', 'becomes']\n",
      "['and', 'becomes', 'very']\n",
      "['becomes', 'very', 'wealthy']\n",
      "['very', 'wealthy', 'which']\n",
      "['wealthy', 'which', 'presents']\n",
      "['which', 'presents', 'her']\n",
      "['presents', 'her', 'with']\n",
      "['her', 'with', 'more']\n",
      "['with', 'more', 'problems']\n",
      "['more', 'problems', 'of']\n",
      "['problems', 'of', 'a']\n",
      "['of', 'a', 'different']\n",
      "['a', 'different', 'kind']\n"
     ]
    }
   ],
   "source": [
    "# trigrams\n",
    "for trigram in blob.ngrams(3):\n",
    "    print(trigram)"
   ]
  },
  {
   "cell_type": "code",
   "execution_count": null,
   "id": "25329300",
   "metadata": {},
   "outputs": [],
   "source": []
  }
 ],
 "metadata": {
  "kernelspec": {
   "display_name": "Python 3",
   "language": "python",
   "name": "python3"
  },
  "language_info": {
   "codemirror_mode": {
    "name": "ipython",
    "version": 3
   },
   "file_extension": ".py",
   "mimetype": "text/x-python",
   "name": "python",
   "nbconvert_exporter": "python",
   "pygments_lexer": "ipython3",
   "version": "3.8.8"
  }
 },
 "nbformat": 4,
 "nbformat_minor": 5
}
